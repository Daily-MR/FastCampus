{
 "cells": [
  {
   "cell_type": "markdown",
   "metadata": {},
   "source": [
    "### 학습목표\n",
    " - random 서브모듈 함수를 통해 ndarray 생성하기"
   ]
  },
  {
   "cell_type": "code",
   "execution_count": 1,
   "metadata": {},
   "outputs": [],
   "source": [
    "import numpy as np"
   ]
  },
  {
   "cell_type": "markdown",
   "metadata": {},
   "source": [
    "#### random 서브모듈"
   ]
  },
  {
   "cell_type": "markdown",
   "metadata": {},
   "source": [
    "#### rand 함수\n",
    " - 0, 1사이의 분포로 랜덤한 ndarray 생성"
   ]
  },
  {
   "cell_type": "code",
   "execution_count": 2,
   "metadata": {},
   "outputs": [
    {
     "data": {
      "text/plain": [
       "array([[0.88609522, 0.68307571, 0.46589935],\n",
       "       [0.99737028, 0.07592654, 0.22318614]])"
      ]
     },
     "execution_count": 2,
     "metadata": {},
     "output_type": "execute_result"
    }
   ],
   "source": [
    "np.random.rand(2, 3)"
   ]
  },
  {
   "cell_type": "code",
   "execution_count": 3,
   "metadata": {},
   "outputs": [
    {
     "data": {
      "text/plain": [
       "array([0.18977785, 0.34678323, 0.48902416, 0.48665138, 0.14350517,\n",
       "       0.52336567, 0.56301895, 0.37406117, 0.39070684, 0.23654155])"
      ]
     },
     "execution_count": 3,
     "metadata": {},
     "output_type": "execute_result"
    }
   ],
   "source": [
    "np.random.rand(10)"
   ]
  },
  {
   "cell_type": "code",
   "execution_count": 4,
   "metadata": {},
   "outputs": [
    {
     "data": {
      "text/plain": [
       "array([[[0.67919817, 0.48373354, 0.09965567],\n",
       "        [0.32648956, 0.40930565, 0.08764063],\n",
       "        [0.2791597 , 0.22340208, 0.52804412],\n",
       "        [0.01154512, 0.58838346, 0.24186949],\n",
       "        [0.93202615, 0.2787187 , 0.482996  ]],\n",
       "\n",
       "       [[0.02321079, 0.10637222, 0.25824866],\n",
       "        [0.02088096, 0.66812079, 0.04524696],\n",
       "        [0.39630781, 0.20911514, 0.19372856],\n",
       "        [0.60463846, 0.43339337, 0.05737487],\n",
       "        [0.6210773 , 0.20460235, 0.41491033]],\n",
       "\n",
       "       [[0.60244061, 0.64388494, 0.41392867],\n",
       "        [0.92119124, 0.60980919, 0.58351123],\n",
       "        [0.804645  , 0.5542059 , 0.38430556],\n",
       "        [0.4486338 , 0.98826392, 0.05309767],\n",
       "        [0.34592464, 0.31837445, 0.20556943]],\n",
       "\n",
       "       [[0.94288331, 0.73137755, 0.51666122],\n",
       "        [0.6175703 , 0.26303911, 0.61376428],\n",
       "        [0.88334812, 0.68038759, 0.60085058],\n",
       "        [0.84284199, 0.15416167, 0.18106171],\n",
       "        [0.12528023, 0.25577251, 0.02772738]]])"
      ]
     },
     "execution_count": 4,
     "metadata": {},
     "output_type": "execute_result"
    }
   ],
   "source": [
    "np.random.rand(4, 5, 3)"
   ]
  },
  {
   "cell_type": "markdown",
   "metadata": {},
   "source": [
    "#### randn함수\n",
    " - n: normal distribution(정규분포)\n",
    " - 정규분포로 샘플링된 랜덤 ndarray 생성"
   ]
  },
  {
   "cell_type": "code",
   "execution_count": 5,
   "metadata": {},
   "outputs": [
    {
     "data": {
      "text/plain": [
       "array([[[ 0.58327308, -0.35498051],\n",
       "        [ 0.11968371, -0.28512127],\n",
       "        [-0.77284829,  1.19949088],\n",
       "        [ 0.98579237, -0.57420551]],\n",
       "\n",
       "       [[-0.43735631,  0.56585349],\n",
       "        [ 0.54206293, -1.25980967],\n",
       "        [ 0.88936586,  0.22350807],\n",
       "        [ 1.24005522, -1.86865941]],\n",
       "\n",
       "       [[-1.15112261,  0.44064948],\n",
       "        [-0.61687397, -1.63577087],\n",
       "        [ 1.22762247,  0.15287412],\n",
       "        [-0.33073287, -0.37426446]]])"
      ]
     },
     "execution_count": 5,
     "metadata": {},
     "output_type": "execute_result"
    }
   ],
   "source": [
    "np.random.randn(3, 4, 2)"
   ]
  },
  {
   "cell_type": "code",
   "execution_count": 6,
   "metadata": {},
   "outputs": [
    {
     "data": {
      "text/plain": [
       "array([ 1.16870477,  0.61473908, -0.79164246, -0.36155013,  1.04168145])"
      ]
     },
     "execution_count": 6,
     "metadata": {},
     "output_type": "execute_result"
    }
   ],
   "source": [
    "np.random.randn(5)"
   ]
  },
  {
   "cell_type": "markdown",
   "metadata": {},
   "source": [
    "#### randint 함수\n",
    " - 특정 정수 사이에서 랜덤하게 샘플링"
   ]
  },
  {
   "cell_type": "code",
   "execution_count": 7,
   "metadata": {},
   "outputs": [
    {
     "data": {
      "text/plain": [
       "array([[98, 17, 87, 91, 91],\n",
       "       [74,  3, 65, 92, 22],\n",
       "       [32, 99, 26, 83, 54]])"
      ]
     },
     "execution_count": 7,
     "metadata": {},
     "output_type": "execute_result"
    }
   ],
   "source": [
    "np.random.randint(1, 100, size = (3, 5))"
   ]
  },
  {
   "cell_type": "code",
   "execution_count": 8,
   "metadata": {},
   "outputs": [
    {
     "data": {
      "text/plain": [
       "array([[[ 7,  6],\n",
       "        [89, 31],\n",
       "        [30, 32],\n",
       "        [96, 46],\n",
       "        [71, 72]],\n",
       "\n",
       "       [[46, 15],\n",
       "        [83, 15],\n",
       "        [10, 61],\n",
       "        [32, 11],\n",
       "        [62, 44]],\n",
       "\n",
       "       [[29, 21],\n",
       "        [14, 18],\n",
       "        [16, 51],\n",
       "        [15, 89],\n",
       "        [28, 73]]])"
      ]
     },
     "execution_count": 8,
     "metadata": {},
     "output_type": "execute_result"
    }
   ],
   "source": [
    "np.random.randint(1, 100, size = (3, 5, 2))"
   ]
  },
  {
   "cell_type": "markdown",
   "metadata": {},
   "source": [
    "#### seed 함수\n",
    " - 랜덤한 값을 동일하게 다시 생성하고자 할때 사용"
   ]
  },
  {
   "cell_type": "code",
   "execution_count": 9,
   "metadata": {},
   "outputs": [],
   "source": [
    "np.random.seed(100)"
   ]
  },
  {
   "cell_type": "code",
   "execution_count": 11,
   "metadata": {},
   "outputs": [
    {
     "data": {
      "text/plain": [
       "array([[-1.74976547,  0.3426804 ,  1.1530358 , -0.25243604],\n",
       "       [ 0.98132079,  0.51421884,  0.22117967, -1.07004333],\n",
       "       [-0.18949583,  0.25500144, -0.45802699,  0.43516349]])"
      ]
     },
     "execution_count": 11,
     "metadata": {},
     "output_type": "execute_result"
    }
   ],
   "source": [
    "np.random.randn(3, 4)"
   ]
  },
  {
   "cell_type": "code",
   "execution_count": 14,
   "metadata": {},
   "outputs": [
    {
     "data": {
      "text/plain": [
       "array([[-1.74976547,  0.3426804 ,  1.1530358 , -0.25243604],\n",
       "       [ 0.98132079,  0.51421884,  0.22117967, -1.07004333],\n",
       "       [-0.18949583,  0.25500144, -0.45802699,  0.43516349]])"
      ]
     },
     "execution_count": 14,
     "metadata": {},
     "output_type": "execute_result"
    }
   ],
   "source": [
    "np.random.seed(100)\n",
    "np.random.randn(3, 4)"
   ]
  },
  {
   "cell_type": "markdown",
   "metadata": {},
   "source": [
    "#### choice\n",
    " - 주어진 1차원 ndarray로 부터 랜덤으로 샘플링\n",
    " - 정수가 주어진 경우, np.arange(해당숫자)로 간주"
   ]
  },
  {
   "cell_type": "code",
   "execution_count": 15,
   "metadata": {},
   "outputs": [
    {
     "data": {
      "text/plain": [
       "array([[83,  4, 91, 59],\n",
       "       [67,  7, 49, 47],\n",
       "       [65, 61, 14, 55]])"
      ]
     },
     "execution_count": 15,
     "metadata": {},
     "output_type": "execute_result"
    }
   ],
   "source": [
    "np.random.choice(100, (3, 4))"
   ]
  },
  {
   "cell_type": "code",
   "execution_count": 16,
   "metadata": {},
   "outputs": [
    {
     "data": {
      "text/plain": [
       "array([[1.5, 1. ],\n",
       "       [3. , 2. ]])"
      ]
     },
     "execution_count": 16,
     "metadata": {},
     "output_type": "execute_result"
    }
   ],
   "source": [
    "x = np.array([1, 2, 3, 1.5, 2.6, 4.9])\n",
    "np.random.choice(x, size = (2, 2))"
   ]
  },
  {
   "cell_type": "markdown",
   "metadata": {},
   "source": [
    "#### 확률분포에 따른 ndarray 생성\n",
    " - uniform\n",
    " - normal 등등"
   ]
  },
  {
   "cell_type": "code",
   "execution_count": 17,
   "metadata": {},
   "outputs": [
    {
     "data": {
      "text/plain": [
       "array([[2.29338294, 1.28413075, 2.16277792, 1.95837987, 1.77283822],\n",
       "       [1.88092989, 1.80951466, 1.88450807, 1.06024656, 2.55201063],\n",
       "       [2.10191676, 1.76214681, 2.05853156, 2.9137538 , 1.35164262],\n",
       "       [1.23660567, 2.72589134, 1.14973376, 2.65018972, 2.67226363]])"
      ]
     },
     "execution_count": 17,
     "metadata": {},
     "output_type": "execute_result"
    }
   ],
   "source": [
    "np.random.uniform(1.0, 3.0, size = (4, 5))"
   ]
  },
  {
   "cell_type": "code",
   "execution_count": 19,
   "metadata": {},
   "outputs": [
    {
     "data": {
      "text/plain": [
       "array([[ 0.38405784, -0.0490925 , -1.60169118, -0.13876257],\n",
       "       [ 0.01208627, -1.29814417, -0.12888604, -0.28292163],\n",
       "       [-0.17916825,  0.67575177,  2.38059534, -1.14670086]])"
      ]
     },
     "execution_count": 19,
     "metadata": {},
     "output_type": "execute_result"
    }
   ],
   "source": [
    "np.random.normal(size = (3, 4))\n",
    "np.random.randn(3, 4)"
   ]
  }
 ],
 "metadata": {
  "kernelspec": {
   "display_name": "Python 3",
   "language": "python",
   "name": "python3"
  },
  "language_info": {
   "codemirror_mode": {
    "name": "ipython",
    "version": 3
   },
   "file_extension": ".py",
   "mimetype": "text/x-python",
   "name": "python",
   "nbconvert_exporter": "python",
   "pygments_lexer": "ipython3",
   "version": "3.8.5"
  }
 },
 "nbformat": 4,
 "nbformat_minor": 2
}
